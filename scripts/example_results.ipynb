{
 "cells": [
  {
   "cell_type": "code",
   "execution_count": 1,
   "metadata": {},
   "outputs": [],
   "source": [
    "import torch\n",
    "from torchaudio.datasets import LIBRISPEECH\n",
    "from pathlib import Path\n",
    "import numpy as np\n",
    "from tqdm import tqdm"
   ]
  },
  {
   "cell_type": "code",
   "execution_count": 2,
   "metadata": {},
   "outputs": [],
   "source": [
    "tmp_dir = Path(\"/home/nicolvisser/Workspace/librispeech-samediff/tmp\")"
   ]
  },
  {
   "cell_type": "code",
   "execution_count": 3,
   "metadata": {},
   "outputs": [],
   "source": [
    "dataset = LIBRISPEECH(\n",
    "    root=Path(\"/home/nicolvisser/Datasets/\"),\n",
    "    url=\"dev-clean\",\n",
    "    download=False,\n",
    ")"
   ]
  },
  {
   "cell_type": "code",
   "execution_count": 9,
   "metadata": {},
   "outputs": [
    {
     "name": "stderr",
     "output_type": "stream",
     "text": [
      "Using cache found in /home/nicolvisser/.cache/torch/hub/bshall_hubert_main\n",
      "100%|██████████| 2703/2703 [01:14<00:00, 36.28it/s]\n"
     ]
    }
   ],
   "source": [
    "hubert = torch.hub.load(\"bshall/hubert:main\", \"hubert_soft\", trust_repo=True).cuda()\n",
    "\n",
    "for wav, sr, _, speaker_id, chapter_id, utterance_id in tqdm(dataset):\n",
    "    wav = wav.unsqueeze(0).cuda()\n",
    "    units = hubert.units(wav).squeeze(0)\n",
    "    out_path = tmp_dir / \"soft\" / f\"{speaker_id}-{chapter_id}-{utterance_id:04d}.npy\"\n",
    "    out_path.parent.mkdir(parents=True, exist_ok=True)\n",
    "    np.save(out_path, units.cpu().numpy())"
   ]
  }
 ],
 "metadata": {
  "kernelspec": {
   "display_name": "base2",
   "language": "python",
   "name": "python3"
  },
  "language_info": {
   "codemirror_mode": {
    "name": "ipython",
    "version": 3
   },
   "file_extension": ".py",
   "mimetype": "text/x-python",
   "name": "python",
   "nbconvert_exporter": "python",
   "pygments_lexer": "ipython3",
   "version": "3.11.5"
  },
  "orig_nbformat": 4
 },
 "nbformat": 4,
 "nbformat_minor": 2
}
