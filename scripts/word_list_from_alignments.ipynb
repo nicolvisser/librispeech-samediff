{
 "cells": [
  {
   "cell_type": "markdown",
   "metadata": {},
   "source": [
    "This is the script I used to find the words from alignments.\n",
    "I put it here for completeness, but it is not necessary to run it to get the results."
   ]
  },
  {
   "cell_type": "code",
   "execution_count": 3,
   "metadata": {},
   "outputs": [],
   "source": [
    "from pathlib import Path\n",
    "\n",
    "import torchaudio\n",
    "import pandas as pd\n",
    "from textgrid import TextGrid\n",
    "\n",
    "from ipywidgets import interact\n",
    "from IPython.display import Audio, display"
   ]
  },
  {
   "cell_type": "code",
   "execution_count": 34,
   "metadata": {},
   "outputs": [],
   "source": [
    "subsets = ['dev-clean', 'dev-other', 'test-clean', 'test-other']"
   ]
  },
  {
   "cell_type": "code",
   "execution_count": 15,
   "metadata": {},
   "outputs": [],
   "source": [
    "dfs = []\n",
    "for subset in subsets:\n",
    "    alignments_dir = Path(f\"/home/nicolvisser/Data/LibriSpeech/alignments/montreal-forced-aligner/english_us_mfa/textgrids/{subset}\")\n",
    "    waveforms_dir = Path(f\"/home/nicolvisser/Datasets/LibriSpeech/{subset}\")\n",
    "    rows = []\n",
    "    for alignment_path in alignments_dir.rglob(\"*.TextGrid\"):\n",
    "        tg = TextGrid.fromFile(alignment_path)\n",
    "        speaker_id = alignment_path.parent.parent.name\n",
    "        chapter_id = alignment_path.parent.name\n",
    "        rel_path = alignment_path.relative_to(alignments_dir)\n",
    "        wav_path = waveforms_dir / rel_path.with_suffix(\".flac\")\n",
    "        for tier in tg.tiers:\n",
    "            if tier.name == \"words\":\n",
    "                for interval in tier.intervals:\n",
    "                    if interval.mark != \"\":\n",
    "                        rows.append(\n",
    "                            {\n",
    "                                \"word\": interval.mark,\n",
    "                                \"start\": interval.minTime,\n",
    "                                \"end\": interval.maxTime,\n",
    "                                \"speaker_id\": speaker_id,\n",
    "                                \"chapter_id\": chapter_id,\n",
    "                                \"filename\": alignment_path.stem,\n",
    "                                \"wav_path\": wav_path,\n",
    "                            }\n",
    "                        )\n",
    "    df = pd.DataFrame(rows)\n",
    "    df.eval(\"duration = end - start\", inplace=True)\n",
    "    df.eval(\"num_chars = word.str.len()\", inplace=True)\n",
    "\n",
    "    dfs.append(df)\n"
   ]
  },
  {
   "cell_type": "markdown",
   "metadata": {},
   "source": [
    "Filter out words\n",
    "- with less than 5 characters\n",
    "- with less than 0.5 seconds duration\n",
    "- that only occur once in the subset"
   ]
  },
  {
   "cell_type": "code",
   "execution_count": 25,
   "metadata": {},
   "outputs": [],
   "source": [
    "for i in range(len(dfs)):\n",
    "    dfs[i] = dfs[i].query(\"num_chars >= 5\")\n",
    "    dfs[i] = dfs[i].query(\"duration >= 0.5\")\n",
    "    dfs[i] = dfs[i].groupby(\"word\").filter(lambda x: len(x) > 1)\n",
    "\n",
    "    dfs[i] = dfs[i].sort_values([\"word\", \"speaker_id\"])\n",
    "    dfs[i] = dfs[i].reset_index(drop=True)\n"
   ]
  },
  {
   "cell_type": "code",
   "execution_count": 31,
   "metadata": {},
   "outputs": [
    {
     "data": {
      "text/plain": [
       "word\n",
       "himself       37\n",
       "themselves    23\n",
       "myself        16\n",
       "silence       14\n",
       "things        14\n",
       "Name: filename, dtype: int64"
      ]
     },
     "execution_count": 31,
     "metadata": {},
     "output_type": "execute_result"
    }
   ],
   "source": [
    "dfs[0].groupby(\"word\")['filename'].count().sort_values(ascending=False).head(5)"
   ]
  },
  {
   "cell_type": "code",
   "execution_count": 32,
   "metadata": {},
   "outputs": [
    {
     "data": {
      "text/plain": [
       "word\n",
       "intervals    2\n",
       "glory        2\n",
       "savagely     2\n",
       "sauterne     2\n",
       "satisfy      2\n",
       "Name: filename, dtype: int64"
      ]
     },
     "execution_count": 32,
     "metadata": {},
     "output_type": "execute_result"
    }
   ],
   "source": [
    "dfs[0].groupby(\"word\")['filename'].count().sort_values(ascending=True).head(5)"
   ]
  },
  {
   "cell_type": "code",
   "execution_count": 33,
   "metadata": {},
   "outputs": [
    {
     "data": {
      "application/vnd.jupyter.widget-view+json": {
       "model_id": "b9167fcafd334f2c9f6d9bdb6a0b252a",
       "version_major": 2,
       "version_minor": 0
      },
      "text/plain": [
       "interactive(children=(IntSlider(value=0, description='i', max=4166), Output()), _dom_classes=('widget-interact…"
      ]
     },
     "metadata": {},
     "output_type": "display_data"
    }
   ],
   "source": [
    "@interact(i=(0, len(dfs[0])-1))\n",
    "def get_word(i=0):\n",
    "    word = dfs[0].iloc[i].word\n",
    "    print(word)\n",
    "    wav_path = dfs[0].iloc[i].wav_path\n",
    "    wav, sr = torchaudio.load(wav_path)\n",
    "    start = int(dfs[0].iloc[i].start*sr)\n",
    "    end = int(dfs[0].iloc[i].end*sr)\n",
    "    display(Audio(wav[:, start:end], rate=sr))"
   ]
  },
  {
   "cell_type": "code",
   "execution_count": 35,
   "metadata": {},
   "outputs": [],
   "source": [
    "for subset, df in zip(subsets, dfs):\n",
    "    df[[\"word\", \"speaker_id\", \"filename\", \"start\", \"end\"]].to_csv(f\"{subset}.csv\", index=True)"
   ]
  }
 ],
 "metadata": {
  "kernelspec": {
   "display_name": "env",
   "language": "python",
   "name": "python3"
  },
  "language_info": {
   "codemirror_mode": {
    "name": "ipython",
    "version": 3
   },
   "file_extension": ".py",
   "mimetype": "text/x-python",
   "name": "python",
   "nbconvert_exporter": "python",
   "pygments_lexer": "ipython3",
   "version": "3.10.10"
  },
  "orig_nbformat": 4
 },
 "nbformat": 4,
 "nbformat_minor": 2
}
